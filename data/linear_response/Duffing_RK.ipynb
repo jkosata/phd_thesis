{
 "cells": [
  {
   "cell_type": "code",
   "execution_count": 9,
   "id": "8bf472b5",
   "metadata": {},
   "outputs": [],
   "source": [
    "using DifferentialEquations, FFTW"
   ]
  },
  {
   "cell_type": "code",
   "execution_count": 20,
   "id": "fe6c7e4a",
   "metadata": {},
   "outputs": [
    {
     "data": {
      "text/plain": [
       "Fourier_filter (generic function with 1 method)"
      ]
     },
     "execution_count": 20,
     "metadata": {},
     "output_type": "execute_result"
    }
   ],
   "source": [
    "function solution_lab(ω, F0, α, F1; x0 = [0.3,0.3], ω0=1.0, γ=0.01, η=0.1, cycles=5000, pts_per_cycle=30)\n",
    "    T = cycles * 2pi / ω\n",
    "    f(du, u, p, t) = -ω0^2  * u - α*u^3 - γ*du - η*u*u*du + F0*cos(ω*t) + F1*cos(0.95*t)\n",
    "    problem = SecondOrderODEProblem(f, x0..., [0., T])\n",
    "    soln = DifferentialEquations.solve(problem, saveat=(1/pts_per_cycle) * 2pi/ω, reltol=1e-8, abstol=1e-8, maxiters=1e8)\n",
    "end\n",
    "\n",
    "function Fourier_filter(response; ω_range=[0.5,1.5], ringdown_cycles=10000, pts_per_cycle)\n",
    "    Δt = response[1][2] - response[1][1]\n",
    "    \n",
    "    #k = Int(round(ringdown_time / Δt) + 1)\n",
    "    k = pts_per_cycle * ringdown_cycles + 1\n",
    "    \n",
    "    fft = FFTW.fft(response[2][k:end]) .* Δt # the spectrum\n",
    "    \n",
    "    f_axis = FFTW.fftfreq(length(fft), 1/Δt)\n",
    "    \n",
    "    f_range = ω_range ./ (2pi)\n",
    "    \n",
    "    \n",
    "    relevant_indices = findall(x -> f_range[1] <= abs(x) <= f_range[2], f_axis)\n",
    "    fft_filtered = fft[relevant_indices]\n",
    "    \n",
    "    parseval_sum = sum((abs.(fft_filtered).^2)) / (length(fft)*Δt)\n",
    "    sqrt(2 * parseval_sum / (response[1][end] - response[1][k]))\n",
    "    \n",
    "end"
   ]
  },
  {
   "cell_type": "code",
   "execution_count": 21,
   "id": "e37ecb2b",
   "metadata": {},
   "outputs": [],
   "source": [
    "soln = solution_lab(1.1, 0.01, 1, 1E-5 ,ω0=1.0, γ=0.001, cycles=100000, pts_per_cycle=50)\n",
    "response = soln.t, getindex.(soln.u, 2);"
   ]
  },
  {
   "cell_type": "code",
   "execution_count": 22,
   "id": "9cf0be4b",
   "metadata": {},
   "outputs": [
    {
     "name": "stdout",
     "output_type": "stream",
     "text": [
      "drive: 0.5462745916288868\n"
     ]
    }
   ],
   "source": [
    "println(\"drive: \", Fourier_filter(response, ω_range=[1.095,1.105], pts_per_cycle=50))"
   ]
  },
  {
   "cell_type": "code",
   "execution_count": 23,
   "id": "39dc9400",
   "metadata": {},
   "outputs": [
    {
     "name": "stdout",
     "output_type": "stream",
     "text": [
      "at signal: 2.8007884674326032e-5\n"
     ]
    }
   ],
   "source": [
    "println(\"at signal: \", Fourier_filter(response, ω_range=[0.945,0.955], pts_per_cycle=50))"
   ]
  },
  {
   "cell_type": "code",
   "execution_count": 24,
   "id": "d43b6b72",
   "metadata": {},
   "outputs": [
    {
     "name": "stdout",
     "output_type": "stream",
     "text": [
      "upconverted: 3.228942983074605e-5\n"
     ]
    }
   ],
   "source": [
    "println(\"upconverted: \", Fourier_filter(response, ω_range=[1.245,1.255],pts_per_cycle=50))"
   ]
  },
  {
   "cell_type": "code",
   "execution_count": 25,
   "id": "7fdec8c0",
   "metadata": {},
   "outputs": [
    {
     "name": "stdout",
     "output_type": "stream",
     "text": [
      "up to 3ω: 0.004342837988458274\n"
     ]
    }
   ],
   "source": [
    "println(\"up to 3ω: \", Fourier_filter(response, ω_range=[3.25,3.35],pts_per_cycle=50))"
   ]
  },
  {
   "cell_type": "code",
   "execution_count": 26,
   "id": "308bca78",
   "metadata": {},
   "outputs": [
    {
     "name": "stdout",
     "output_type": "stream",
     "text": [
      "floor: 9.197484478632319e-6\n"
     ]
    }
   ],
   "source": [
    "println(\"floor: \", Fourier_filter(response, ω_range=[1.485,1.495],pts_per_cycle=50))"
   ]
  },
  {
   "cell_type": "code",
   "execution_count": null,
   "id": "d8b4f3a4",
   "metadata": {},
   "outputs": [],
   "source": []
  },
  {
   "cell_type": "code",
   "execution_count": null,
   "id": "6f7f43b9",
   "metadata": {},
   "outputs": [],
   "source": []
  }
 ],
 "metadata": {
  "kernelspec": {
   "display_name": "Julia 1.7.0",
   "language": "julia",
   "name": "julia-1.7"
  },
  "language_info": {
   "file_extension": ".jl",
   "mimetype": "application/julia",
   "name": "julia",
   "version": "1.7.0"
  }
 },
 "nbformat": 4,
 "nbformat_minor": 5
}
