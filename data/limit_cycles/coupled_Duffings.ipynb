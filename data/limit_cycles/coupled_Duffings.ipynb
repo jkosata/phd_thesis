{
 "cells": [
  {
   "cell_type": "markdown",
   "metadata": {},
   "source": [
    "This notebook reproduces https://journals.aps.org/pra/abstract/10.1103/PhysRevA.102.023526"
   ]
  },
  {
   "cell_type": "code",
   "execution_count": 1,
   "metadata": {},
   "outputs": [
    {
     "name": "stderr",
     "output_type": "stream",
     "text": [
      "┌ Info: Precompiling HarmonicBalance [e13b9ff6-59c3-11ec-14b1-f3d2cc6c135e]\n",
      "└ @ Base loading.jl:1423\n",
      "WARNING: Method definition setindex(AbstractArray{T, 2} where T, Any, Int64, Int64) in module ArrayInterfaceCore at /home/hrochan/.julia/packages/ArrayInterfaceCore/7bOFF/src/ArrayInterfaceCore.jl:164 overwritten in module ArrayInterface at /home/hrochan/.julia/packages/ArrayInterface/R0AhD/src/ArrayInterface.jl:199.\n",
      "  ** incremental compilation may be fatally broken for this module **\n",
      "\n",
      "WARNING: Method definition setindex(AbstractArray{T, 1} where T, Any, Int64) in module ArrayInterfaceCore at /home/hrochan/.julia/packages/ArrayInterfaceCore/7bOFF/src/ArrayInterfaceCore.jl:159 overwritten in module ArrayInterface at /home/hrochan/.julia/packages/ArrayInterface/R0AhD/src/ArrayInterface.jl:194.\n",
      "  ** incremental compilation may be fatally broken for this module **\n",
      "\n",
      "WARNING: Method definition setindex(AbstractArray{T, N} where N where T, Any, Any...) in module ArrayInterfaceCore at /home/hrochan/.julia/packages/ArrayInterfaceCore/7bOFF/src/ArrayInterfaceCore.jl:153 overwritten in module ArrayInterface at /home/hrochan/.julia/packages/ArrayInterface/R0AhD/src/ArrayInterface.jl:188.\n",
      "  ** incremental compilation may be fatally broken for this module **\n",
      "\n",
      "\u001b[33m\u001b[1m┌ \u001b[22m\u001b[39m\u001b[33m\u001b[1mWarning: \u001b[22m\u001b[39mPackage HarmonicBalance does not have Plots in its dependencies:\n",
      "\u001b[33m\u001b[1m│ \u001b[22m\u001b[39m- If you have HarmonicBalance checked out for development and have\n",
      "\u001b[33m\u001b[1m│ \u001b[22m\u001b[39m  added Plots as a dependency but haven't updated your primary\n",
      "\u001b[33m\u001b[1m│ \u001b[22m\u001b[39m  environment's manifest file, try `Pkg.resolve()`.\n",
      "\u001b[33m\u001b[1m│ \u001b[22m\u001b[39m- Otherwise you may need to report an issue with HarmonicBalance\n",
      "\u001b[33m\u001b[1m└ \u001b[22m\u001b[39mLoading Plots into HarmonicBalance from project dependency, future warnings for HarmonicBalance are suppressed.\n",
      "┌ Warning: You are using Matplotlib 3.1.2, which is no longer\n",
      "│ officialy supported by the Plots community. To ensure smooth Plots.jl\n",
      "│ integration update your Matplotlib library to a version >= 3.4.0\n",
      "│ \n",
      "│ If you have used Conda.jl to install PyPlot (default installation),\n",
      "│ upgrade your matplotlib via Conda.jl and rebuild the PyPlot.\n",
      "│ \n",
      "│ If you are not sure, here are the default instructions:\n",
      "│ \n",
      "│ In Julia REPL:\n",
      "│ ```\n",
      "│ import Pkg;\n",
      "│ Pkg.add(\"Conda\")\n",
      "│ import Conda\n",
      "│ Conda.update()\n",
      "│ Pkg.build(\"PyPlot\")\n",
      "│ ```\n",
      "│ \n",
      "└ @ Plots /home/hrochan/.julia/packages/Plots/E2187/src/backends/pyplot.jl:29\n",
      "┌ Warning: You are using Matplotlib 3.1.2, which is no longer\n",
      "│ officialy supported by the Plots community. To ensure smooth Plots.jl\n",
      "│ integration update your Matplotlib library to a version >= 3.4.0\n",
      "│ \n",
      "│ If you have used Conda.jl to install PyPlot (default installation),\n",
      "│ upgrade your matplotlib via Conda.jl and rebuild the PyPlot.\n",
      "│ \n",
      "│ If you are not sure, here are the default instructions:\n",
      "│ \n",
      "│ In Julia REPL:\n",
      "│ ```\n",
      "│ import Pkg;\n",
      "│ Pkg.add(\"Conda\")\n",
      "│ import Conda\n",
      "│ Conda.update()\n",
      "│ Pkg.build(\"PyPlot\")\n",
      "│ ```\n",
      "│ \n",
      "└ @ Plots /home/hrochan/.julia/packages/Plots/E2187/src/backends/pyplot.jl:29\n"
     ]
    }
   ],
   "source": [
    "using Revise, HarmonicBalance\n",
    "include(\"../plotting.jl\");"
   ]
  },
  {
   "cell_type": "markdown",
   "metadata": {},
   "source": [
    "# Define the differential equation of motion"
   ]
  },
  {
   "cell_type": "code",
   "execution_count": 2,
   "metadata": {},
   "outputs": [],
   "source": [
    "@variables γ, F, α, ω0, F0, η, J, ω, t, θ, x(t), y(t);\n",
    "\n",
    "# a vector of expressions - these must equal to zero\n",
    "diff_eq = DifferentialEquation([d(x,t,2) + γ * d(x,t) + ω0^2 * x + α*x^3+ J*ω0*(x-y) - F0*cos(ω*t), \n",
    "            d(y,t,2) + γ * d(y,t) + ω0^2 * y + α*y^3 + J*ω0*(y-x) - η*F0*cos(ω*t)], [x,y])\n",
    "\n",
    "# describe each variable using one or more Fourier components\n",
    "add_harmonic!(diff_eq, x, ω)\n",
    "add_harmonic!(diff_eq, y, ω)\n",
    "\n",
    "harmonic_eqs = get_harmonic_equations(diff_eq);"
   ]
  },
  {
   "cell_type": "markdown",
   "metadata": {},
   "source": [
    "# Solving the resulting polynomial equations"
   ]
  },
  {
   "cell_type": "code",
   "execution_count": 3,
   "metadata": {},
   "outputs": [
    {
     "name": "stdout",
     "output_type": "stream",
     "text": [
      "\r",
      "\u001b[32mTracking 81 paths... 100%|██████████████████████████████| Time: 0:00:19\u001b[39m\r\n",
      "\u001b[34m  # paths tracked:                  81\u001b[39m\r\n",
      "\u001b[34m  # non-singular solutions (real):  11 (0)\u001b[39m\r\n",
      "\u001b[34m  # singular endpoints (real):      0 (0)\u001b[39m\r\n",
      "\u001b[34m  # total solutions (real):         11 (0)\u001b[39m\n"
     ]
    },
    {
     "data": {
      "text/plain": [
       "A steady state result for 200 parameter points\n",
       "\n",
       "Solution branches:   11\n",
       "   of which real:    3\n",
       "   of which stable:  2\n",
       "\n",
       "Classes: stable, physical, Hopf, binary_labels\n"
      ]
     },
     "execution_count": 3,
     "metadata": {},
     "output_type": "execute_result"
    }
   ],
   "source": [
    "fixed_parameters = (\n",
    "    ω0 => 1 , # natural frequency of separate modes\n",
    "    γ => 1E-2,    # damping\n",
    "    J => 3E-2,   # coupling term\n",
    "    α => 1E-3,   # Kerr nonlinearity\n",
    "    ω => 1. + 3E-2,  # pump frequency, resonant with antisymmetric mode\n",
    "    η => -0.1,      # pumping leaking to site 2  (F2 = ηF1)\n",
    "    F0 => 1      # pump amplitude (overriden in sweeps)\n",
    ")\n",
    "\n",
    "swept = F0 => LinRange(0.1, 0.35, 200)\n",
    "\n",
    "res = get_steady_states(harmonic_eqs, swept, fixed_parameters, random_warmup=true)"
   ]
  },
  {
   "cell_type": "markdown",
   "metadata": {},
   "source": [
    "## Export a reference figure (naive steady states)"
   ]
  },
  {
   "cell_type": "code",
   "execution_count": null,
   "metadata": {},
   "outputs": [],
   "source": [
    "default(linewidth=1.4, size=(380, 130), legend=false)\n",
    "amps1 = real.(transform_solutions(res, \"sqrt(u1^2 + v1^2)\"))\n",
    "amps2 = real.(transform_solutions(res, \"sqrt(u2^2 + v2^2)\"))\n",
    "\n",
    "stable(amps, i) = replace(getindex.(res.classes[\"physical\"], i) .* getindex.(amps,i) .* getindex.(res.classes[\"stable\"], i), 0.0 => NaN)\n",
    "unstable(amps, i) = replace(getindex.(res.classes[\"physical\"], i) .* getindex.(amps,i) .* map(x -> !(x), getindex.(res.classes[\"stable\"], i)), 0.0 => NaN)\n",
    "\n",
    "x_axis = swept[2]\n",
    "\n",
    "p1 = Plots.plot(x_axis, stable(amps1, 1), c=1,\n",
    "    ylabel=\"\\$  \\\\sqrt{u_1^2 + v_1^2} \\$\",\n",
    "    ylims=[1.5,11], xlabel=\"\\$ F\\$\")\n",
    "Plots.plot!(x_axis, unstable(amps1, 1), style=:dashdotdot, c=1)\n",
    "Plots.plot!(x_axis, stable(amps1, 2), c=2)\n",
    "Plots.plot!(x_axis, unstable(amps1, 3), c=3, style=:dot)\n",
    "annotate!((0.1, 0.9), text(\"(a)\", 7, \"Computer Modern\"))\n",
    "\n",
    "p2 = Plots.plot(x_axis, stable(amps2, 1), c=1,\n",
    "    ylabel=\"\\$  \\\\sqrt{u_2^2 + v_2^2} \\$\",\n",
    "    ylims=[4,9.5], xlabel=\"\\$ F\\$\")\n",
    "Plots.plot!(x_axis, unstable(amps2, 1), style=:dashdotdot, c=1)\n",
    "Plots.plot!(x_axis, stable(amps2, 2), c=2)\n",
    "Plots.plot!(x_axis, unstable(amps2, 3), c=3, style=:dot)\n",
    "annotate!((0.1, 0.9), text(\"(b)\", 7, \"Computer Modern\"))\n",
    "\n",
    "p3 = Plots.plot(p1, p2, size=(400,130))"
   ]
  },
  {
   "cell_type": "code",
   "execution_count": null,
   "metadata": {},
   "outputs": [],
   "source": [
    "savefig(p3, dir * \"limit_cycles/2_duffings_ref.svg\")"
   ]
  },
  {
   "cell_type": "markdown",
   "metadata": {},
   "source": [
    "# Time-dependent simulations"
   ]
  },
  {
   "cell_type": "code",
   "execution_count": 4,
   "metadata": {},
   "outputs": [
    {
     "data": {
      "text/plain": [
       "retcode: Success\n",
       "Interpolation: 1st order linear\n",
       "t: 789570-element Vector{Float64}:\n",
       "      0.0\n",
       "      0.5066059182116889\n",
       "      1.0132118364233778\n",
       "      1.5198177546350666\n",
       "      2.0264236728467555\n",
       "      2.5330295910584444\n",
       "      3.0396355092701333\n",
       "      3.546241427481822\n",
       "      4.052847345693511\n",
       "      4.5594532639051994\n",
       "      5.066059182116888\n",
       "      5.572665100328578\n",
       "      6.0792710185402665\n",
       "      ⋮\n",
       " 399994.7555713847\n",
       " 399995.26217730285\n",
       " 399995.7687832211\n",
       " 399996.2753891393\n",
       " 399996.78199505754\n",
       " 399997.2886009757\n",
       " 399997.79520689393\n",
       " 399998.30181281216\n",
       " 399998.80841873033\n",
       " 399999.31502464856\n",
       " 399999.8216305668\n",
       " 400000.0\n",
       "u: 789570-element Vector{Vector{Float64}}:\n",
       " [1.3741941895950185, 2.6411947122587534, -3.537410766319138, -2.6069274018182558]\n",
       " [1.37419418984187, 2.6411947744709248, -3.5374107664992227, -2.6069274080337688]\n",
       " [1.374194190360748, 2.641194960785494, -3.537410767637986, -2.606927426626321]\n",
       " [1.3741941908212585, 2.6411952707157242, -3.5374107706297653, -2.606927457516264]\n",
       " [1.3741941908946889, 2.641195703768474, -3.5374107763659235, -2.6069275006263113]\n",
       " [1.3741941902512598, 2.6411962594416436, -3.5374107857384702, -2.6069275558827383]\n",
       " [1.3741941885629823, 2.6411969372271678, -3.5374107996362243, -2.6069276232140073]\n",
       " [1.374194185503729, 2.641197736611088, -3.537410818944717, -2.6069277025507347]\n",
       " [1.3741941807492346, 2.6411986570735544, -3.5374108445461925, -2.6069277938256925]\n",
       " [1.3741941739770958, 2.6411996980888226, -3.5374108773196076, -2.6069278969738057]\n",
       " [1.3741941648667708, 2.6412008591252576, -3.5374109181406315, -2.6069280119321534]\n",
       " [1.3741941530995807, 2.6412021396453307, -3.5374109678816468, -2.6069281386399705]\n",
       " [1.3741941383587073, 2.641203539105621, -3.537411027411748, -2.606928277038644]\n",
       " ⋮\n",
       " [-3.567557540354614, -0.031395242986215724, -5.227100499532669, -1.359000590971682]\n",
       " [-3.5482264367203236, -0.039447461147336466, -5.210742723564317, -1.3983658730939144]\n",
       " [-3.5286112700412144, -0.04734713689478973, -5.194263006971103, -1.43751102287852]\n",
       " [-3.508714773376875, -0.05509197774513771, -5.177662868693129, -1.4764322276373174]\n",
       " [-3.4885397169118457, -0.0626796509150208, -5.160943898265072, -1.5151257499528468]\n",
       " [-3.4680889079601878, -0.07010778331938222, -5.144107755819991, -1.5535879276694378]\n",
       " [-3.4473651909560425, -0.07737396157486527, -5.1271561720815715, -1.5918151739108732]\n",
       " [-3.426371447467757, -0.08447573199468542, -5.110090948375751, -1.6298039770538297]\n",
       " [-3.4051105961909314, -0.09141060059128728, -5.092913956624942, -1.6675509007413314]\n",
       " [-3.3835855929409924, -0.09817603307863791, -5.075627139342084, -1.7050525838955652]\n",
       " [-3.3617994306678347, -0.10476945486745119, -5.058232509642477, -1.7423057406918885]\n",
       " [-3.354067204558804, -0.10704948411117825, -5.052082808611752, -1.7553623412193162]"
      ]
     },
     "execution_count": 4,
     "metadata": {},
     "output_type": "execute_result"
    }
   ],
   "source": [
    "import HarmonicBalance.TimeEvolution: ODEProblem, DifferentialEquations.solve, ParameterSweep\n",
    "fft_window(data) = HarmonicBalance.TimeEvolution.DSP.Windows.bartlett(length(data))\n",
    "\n",
    "# first a sweep followed by free time-evolution\n",
    "initial_state = res[1][1]\n",
    "F0_lims = (0.1, 0.2)\n",
    "\n",
    "T = 1E5\n",
    "sweep = ParameterSweep(F0 => F0_lims, (0,T))\n",
    "TDproblem = ODEProblem(harmonic_eqs, initial_state, sweep=sweep, timespan=(0,4*T))\n",
    "TDsoln = solve(TDproblem, saveat=5/pi^2)"
   ]
  },
  {
   "cell_type": "code",
   "execution_count": null,
   "metadata": {},
   "outputs": [],
   "source": [
    "# FT it and show spectrum \n",
    "\n",
    "t1 = Int(round(0.5*length(TDsoln.t)))\n",
    "\n",
    "ts = TDsoln.t[t1:end]\n",
    "ω_drive = 1.0003\n",
    "\n",
    "x_lab = getindex.(TDsoln.u,1)[t1:end] .* cos.(ts*ω_drive) + getindex.(TDsoln.u,2)[t1:end] .* sin.(ts*ω_drive);\n",
    "y_lab = getindex.(TDsoln.u,3)[t1:end] .* cos.(ts*ω_drive) + getindex.(TDsoln.u,4)[t1:end] .* sin.(ts*ω_drive);\n",
    "\n",
    "fft_x = HarmonicBalance.FFT(x_lab, ts, window=fft_window(x_lab));\n",
    "fft_y = HarmonicBalance.FFT(y_lab, ts, window=fft_window(y_lab));\n",
    "\n",
    "default(xlabel=\"\\$ \\\\Omega \\$\")\n",
    "\n",
    "p3 = Plots.plot(fft_x[2], abs.(fft_x[1][1]), xlim=(0.95,1.05),top_margin=-1mm, ylabel=\"FT\\$\\\\,(x)\\\\, [\\\\Omega ]\\$\" )\n",
    "annotate!((0.12, 0.9), text(\"(c)\", 7, \"Computer Modern\"))\n",
    "\n",
    "p4 = Plots.plot(fft_y[2], abs.(fft_y[1][1]), xlim=(0.95,1.05),top_margin=-1mm, c=2, ylabel=\"FT\\$\\\\,(y)\\\\, [\\\\Omega ]\\$\" )\n",
    "annotate!((0.12, 0.9), text(\"(d)\", 7, \"Computer Modern\"))\n",
    "Plots.plot(p3, p4, size=(800,400))"
   ]
  },
  {
   "cell_type": "code",
   "execution_count": null,
   "metadata": {},
   "outputs": [],
   "source": [
    "x_axis = TDsoln.t\n",
    "y_axis = transform_solutions(TDsoln, \"sqrt(u1^2 + v1^2)\", harmonic_eqs);\n",
    "p1 = Plots.plot(x_axis .* 1E-5, y_axis, xlabel=\"\\$T  \\\\: ×\\\\: 10^{-5} \\$\", \n",
    "    ylabel=\"\\$  \\\\sqrt{u_1^2 + v_1^2} \\$\", size=(160, 100))\n",
    "Plots.plot!(twinx(), x_axis .* 1E-5, sweep[F0].(TDsoln.t), c=:black, style=:dash, xlabel=\"\", ylabel=\"\\$ F \\$\",\n",
    "yticks=[0.1,0.15,0.2])\n",
    "annotate!((0.12, 0.9), text(\"(a)\", 7, \"Computer Modern\"))\n",
    "\n",
    "t1 = Int(round(0.5*length(TDsoln.t)));\n",
    "u1s = getindex.(TDsoln.u, 1)[t1:end]\n",
    "v1s = getindex.(TDsoln.u, 2)[t1:end]\n",
    "u2s = getindex.(TDsoln.u, 3)[t1:end]\n",
    "v2s = getindex.(TDsoln.u, 4)[t1:end];\n",
    "\n",
    "p2 = Plots.plot(u1s, v1s, xlabel=\"\\$ u \\$\", ylabel=\" \\$ v \\$\", xticks=[-6,-4,-2,0,2])\n",
    "Plots.plot!(u2s, v2s)\n",
    "annotate!((0.12, 0.9), text(\"(b)\", 7, \"Computer Modern\"))\n",
    "\n",
    "Plots.plot(p1, p2, size=(800,400))"
   ]
  },
  {
   "cell_type": "code",
   "execution_count": null,
   "metadata": {},
   "outputs": [],
   "source": [
    "# time-dependent sweep\n",
    "\n",
    "T = 2E5\n",
    "\n",
    "U0_forw = res[1][1]\n",
    "U0_back = res[180][1]\n",
    "F0_start = substitute_all(F0, U0_forw)\n",
    "F0_fin = substitute_all(F0, U0_back)\n",
    "\n",
    "sweep_forw = ParameterSweep(F0 => (F0_start, F0_fin), (0,T))\n",
    "TDproblem = ODEProblem(harmonic_eqs, U0_forw, sweep=sweep_forw, timespan=(0,T), W=3E-6)\n",
    "TDsoln_forw = solve(TDproblem, HarmonicBalance.TimeEvolution.RandomEM(), dt=0.5);\n",
    "\n",
    "sweep_back = ParameterSweep(F0 => (F0_fin, F0_start), (0,T))\n",
    "TDproblem = ODEProblem(harmonic_eqs, U0_back, sweep=sweep_back, timespan=(0,T), W=3E-6)\n",
    "TDsoln_back = solve(TDproblem, HarmonicBalance.TimeEvolution.RandomEM(), dt=0.5);\n",
    "\n",
    "x_axis = TDsoln_forw.t\n",
    "\n",
    "y_forw = sqrt.(getindex.(TDsoln_forw.u, 1) .^2  + getindex.(TDsoln_forw.u, 2) .^2)\n",
    "y_back = reverse(sqrt.(getindex.(TDsoln_back.u, 1) .^2  + getindex.(TDsoln_back.u, 2) .^2))"
   ]
  },
  {
   "cell_type": "code",
   "execution_count": null,
   "metadata": {},
   "outputs": [],
   "source": [
    "\n",
    "x_axis = Float64.(sweep_forw[F0].(TDsoln_forw.t))\n",
    "p5 = Plots.plot(x_axis, y_forw, top_margin=-2mm, xlabel=\"\\$F\\$\", \n",
    "    ylabel=\"\\$  \\\\sqrt{u_1^2 + v_1^2} \\$\", right_margin=3.5mm, size=(160, 100), opacity=0.5)\n",
    "Plots.plot!(x_axis, y_back, c=:red, opacity=0.5);\n",
    "annotate!((0.06, 0.9), text(\"(e)\", 7, \"Computer Modern\"))\n",
    "quiver!((0.11, 3.5), quiver=([0.02], [-0.2]), c=1)\n",
    "quiver!((0.32, 3.1), quiver=([-0.02], [-0.6]), c=:red, opacity=0.7);\n",
    "Plots.plot(p5, size=(600,400))"
   ]
  },
  {
   "cell_type": "code",
   "execution_count": null,
   "metadata": {
    "scrolled": true
   },
   "outputs": [],
   "source": [
    "l = @layout [ a b ; c d ; e ]\n",
    "\n",
    "Plots.plot(p1, p2, p3, p4, p5, layout=l, size=(390, 350), bottom_margin=-2mm, left_margin=5mm)"
   ]
  },
  {
   "cell_type": "code",
   "execution_count": null,
   "metadata": {},
   "outputs": [],
   "source": [
    "savefig(dir * \"limit_cycles/2_duffings_timedep.svg\")"
   ]
  },
  {
   "cell_type": "code",
   "execution_count": null,
   "metadata": {},
   "outputs": [],
   "source": [
    "using NumericalIntegration\n",
    "norm = ts[end] - ts[1]\n",
    "indices =  0.975 .< fft[2] .< 0.99\n",
    "integrate(fft[2][indices], abs.(fft[1][1])[indices]) * norm / (2pi)"
   ]
  }
 ],
 "metadata": {
  "kernelspec": {
   "display_name": "Julia 1.7.0",
   "language": "julia",
   "name": "julia-1.7"
  },
  "language_info": {
   "file_extension": ".jl",
   "mimetype": "application/julia",
   "name": "julia",
   "version": "1.7.0"
  }
 },
 "nbformat": 4,
 "nbformat_minor": 4
}
