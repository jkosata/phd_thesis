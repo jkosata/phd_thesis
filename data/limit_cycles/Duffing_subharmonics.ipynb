{
 "cells": [
  {
   "cell_type": "code",
   "execution_count": 1,
   "metadata": {
    "scrolled": true
   },
   "outputs": [
    {
     "name": "stderr",
     "output_type": "stream",
     "text": [
      "┌ Info: Precompiling HarmonicBalance [e13b9ff6-59c3-11ec-14b1-f3d2cc6c135e]\n",
      "└ @ Base loading.jl:1423\n",
      "WARNING: Method definition setindex(AbstractArray{T, 2} where T, Any, Int64, Int64) in module ArrayInterfaceCore at /home/hrochan/.julia/packages/ArrayInterfaceCore/7bOFF/src/ArrayInterfaceCore.jl:164 overwritten in module ArrayInterface at /home/hrochan/.julia/packages/ArrayInterface/R0AhD/src/ArrayInterface.jl:199.\n",
      "  ** incremental compilation may be fatally broken for this module **\n",
      "\n",
      "WARNING: Method definition setindex(AbstractArray{T, 1} where T, Any, Int64) in module ArrayInterfaceCore at /home/hrochan/.julia/packages/ArrayInterfaceCore/7bOFF/src/ArrayInterfaceCore.jl:159 overwritten in module ArrayInterface at /home/hrochan/.julia/packages/ArrayInterface/R0AhD/src/ArrayInterface.jl:194.\n",
      "  ** incremental compilation may be fatally broken for this module **\n",
      "\n",
      "WARNING: Method definition setindex(AbstractArray{T, N} where N where T, Any, Any...) in module ArrayInterfaceCore at /home/hrochan/.julia/packages/ArrayInterfaceCore/7bOFF/src/ArrayInterfaceCore.jl:153 overwritten in module ArrayInterface at /home/hrochan/.julia/packages/ArrayInterface/R0AhD/src/ArrayInterface.jl:188.\n",
      "  ** incremental compilation may be fatally broken for this module **\n",
      "\n",
      "\u001b[33m\u001b[1m┌ \u001b[22m\u001b[39m\u001b[33m\u001b[1mWarning: \u001b[22m\u001b[39mPackage HarmonicBalance does not have Plots in its dependencies:\n",
      "\u001b[33m\u001b[1m│ \u001b[22m\u001b[39m- If you have HarmonicBalance checked out for development and have\n",
      "\u001b[33m\u001b[1m│ \u001b[22m\u001b[39m  added Plots as a dependency but haven't updated your primary\n",
      "\u001b[33m\u001b[1m│ \u001b[22m\u001b[39m  environment's manifest file, try `Pkg.resolve()`.\n",
      "\u001b[33m\u001b[1m│ \u001b[22m\u001b[39m- Otherwise you may need to report an issue with HarmonicBalance\n",
      "\u001b[33m\u001b[1m└ \u001b[22m\u001b[39mLoading Plots into HarmonicBalance from project dependency, future warnings for HarmonicBalance are suppressed.\n",
      "┌ Warning: You are using Matplotlib 3.1.2, which is no longer\n",
      "│ officialy supported by the Plots community. To ensure smooth Plots.jl\n",
      "│ integration update your Matplotlib library to a version >= 3.4.0\n",
      "│ \n",
      "│ If you have used Conda.jl to install PyPlot (default installation),\n",
      "│ upgrade your matplotlib via Conda.jl and rebuild the PyPlot.\n",
      "│ \n",
      "│ If you are not sure, here are the default instructions:\n",
      "│ \n",
      "│ In Julia REPL:\n",
      "│ ```\n",
      "│ import Pkg;\n",
      "│ Pkg.add(\"Conda\")\n",
      "│ import Conda\n",
      "│ Conda.update()\n",
      "│ Pkg.build(\"PyPlot\")\n",
      "│ ```\n",
      "│ \n",
      "└ @ Plots /home/hrochan/.julia/packages/Plots/E2187/src/backends/pyplot.jl:29\n",
      "┌ Warning: You are using Matplotlib 3.1.2, which is no longer\n",
      "│ officialy supported by the Plots community. To ensure smooth Plots.jl\n",
      "│ integration update your Matplotlib library to a version >= 3.4.0\n",
      "│ \n",
      "│ If you have used Conda.jl to install PyPlot (default installation),\n",
      "│ upgrade your matplotlib via Conda.jl and rebuild the PyPlot.\n",
      "│ \n",
      "│ If you are not sure, here are the default instructions:\n",
      "│ \n",
      "│ In Julia REPL:\n",
      "│ ```\n",
      "│ import Pkg;\n",
      "│ Pkg.add(\"Conda\")\n",
      "│ import Conda\n",
      "│ Conda.update()\n",
      "│ Pkg.build(\"PyPlot\")\n",
      "│ ```\n",
      "│ \n",
      "└ @ Plots /home/hrochan/.julia/packages/Plots/E2187/src/backends/pyplot.jl:29\n"
     ]
    }
   ],
   "source": [
    "using Revise, HarmonicBalance\n",
    "include(\"../plotting.jl\")\n",
    "@variables α, ω, ω0, F, t, η, x(t), γ; # declare constant variables and a function x(t)"
   ]
  },
  {
   "cell_type": "code",
   "execution_count": 2,
   "metadata": {},
   "outputs": [
    {
     "data": {
      "text/plain": [
       "System of 1 differential equations\n",
       "Variables:       x(t)\n",
       "Harmonic ansatz: x(t) => ω, 3ω, 5ω;   \n",
       "\n",
       "α*(x(t)^3) + (ω0^2)*x(t) + γ*Differential(t)(x(t)) + Differential(t)(Differential(t)(x(t))) ~ F*cos(5t*ω)\n"
      ]
     },
     "execution_count": 2,
     "metadata": {},
     "output_type": "execute_result"
    }
   ],
   "source": [
    "# define ODE \n",
    "diff_eq = DifferentialEquation(d(x,t,2) + ω0^2*x + α*x^3 + γ*d(x,t) ~ F*cos(5*ω*t), x)\n",
    "\n",
    "# specify the ansatz x = u(T) cos(ωt) + v(T) sin(ωt)\n",
    "add_harmonic!(diff_eq, x, ω) \n",
    "add_harmonic!(diff_eq, x, 3*ω)\n",
    "add_harmonic!(diff_eq, x, 5*ω) "
   ]
  },
  {
   "cell_type": "code",
   "execution_count": 3,
   "metadata": {},
   "outputs": [
    {
     "data": {
      "text/plain": [
       "A set of 6 harmonic equations\n",
       "Variables: u1(T), v1(T), u2(T), v2(T), u3(T), v3(T)\n",
       "Parameters: α, ω, ω0, γ, F\n",
       "\n",
       "Harmonic ansatz: \n",
       "x(t) = u1(T)*cos(ωt) + v1(T)*sin(ωt) + u2(T)*cos(3ωt) + v2(T)*sin(3ωt) + u3(T)*cos(5ωt) + v3(T)*sin(5ωt)\n",
       "\n",
       "Harmonic equations:\n",
       "\n",
       "(ω0^2)*u1(T) + γ*Differential(T)(u1(T)) + (3//4)*α*(u1(T)^3) + γ*ω*v1(T) + (2//1)*ω*Differential(T)(v1(T)) + (3//2)*α*(u2(T)^2)*u1(T) + (3//2)*α*(u3(T)^2)*u1(T) + (3//4)*α*(u1(T)^2)*u2(T) + (3//4)*α*(v1(T)^2)*u1(T) + (3//4)*α*(u2(T)^2)*u3(T) + (3//2)*α*(v2(T)^2)*u1(T) + (3//2)*α*(v3(T)^2)*u1(T) + (3//2)*α*u1(T)*u2(T)*u3(T) + (3//2)*α*u1(T)*v1(T)*v2(T) + (3//2)*α*u1(T)*v2(T)*v3(T) + (3//2)*α*u2(T)*v1(T)*v3(T) + (3//2)*α*u2(T)*v2(T)*v3(T) - (ω^2)*u1(T) - (3//4)*α*(v1(T)^2)*u2(T) - (3//4)*α*(v2(T)^2)*u3(T) - (3//2)*α*u3(T)*v1(T)*v2(T) ~ 0\n",
       "\n",
       "γ*Differential(T)(v1(T)) + (ω0^2)*v1(T) + (3//4)*α*(v1(T)^3) + (3//4)*α*(u1(T)^2)*v1(T) + (3//2)*α*(u2(T)^2)*v1(T) + (3//4)*α*(u1(T)^2)*v2(T) + (3//4)*α*(v2(T)^2)*v3(T) + (3//2)*α*(u3(T)^2)*v1(T) + (3//2)*α*(v2(T)^2)*v1(T) + (3//2)*α*(v3(T)^2)*v1(T) + (3//2)*α*u1(T)*u2(T)*v3(T) + (3//2)*α*u2(T)*u3(T)*v2(T) - (ω^2)*v1(T) - (2//1)*ω*Differential(T)(u1(T)) - γ*ω*u1(T) - (3//4)*α*(v1(T)^2)*v2(T) - (3//4)*α*(u2(T)^2)*v3(T) - (3//2)*α*u1(T)*u2(T)*v1(T) - (3//2)*α*u2(T)*u3(T)*v1(T) - (3//2)*α*u1(T)*u3(T)*v2(T) - (3//2)*α*v1(T)*v2(T)*v3(T) ~ 0\n",
       "\n",
       "(ω0^2)*u2(T) + γ*Differential(T)(u2(T)) + (1//4)*α*(u1(T)^3) + (3//4)*α*(u2(T)^3) + (6//1)*ω*Differential(T)(v2(T)) + (3//2)*α*(u1(T)^2)*u2(T) + (3//4)*α*(u1(T)^2)*u3(T) + (3//4)*α*(v2(T)^2)*u2(T) + (3//1)*γ*ω*v2(T) + (3//2)*α*(u3(T)^2)*u2(T) + (3//2)*α*(v1(T)^2)*u2(T) + (3//2)*α*(v3(T)^2)*u2(T) + (3//2)*α*u1(T)*u2(T)*u3(T) + (3//2)*α*u1(T)*v1(T)*v3(T) + (3//2)*α*u1(T)*v2(T)*v3(T) + (3//2)*α*u3(T)*v1(T)*v2(T) - (9//1)*(ω^2)*u2(T) - (3//4)*α*(v1(T)^2)*u1(T) - (3//4)*α*(v1(T)^2)*u3(T) - (3//2)*α*u2(T)*v1(T)*v3(T) ~ 0\n",
       "\n",
       "γ*Differential(T)(v2(T)) + (ω0^2)*v2(T) + (3//4)*α*(v2(T)^3) + (3//4)*α*(u1(T)^2)*v1(T) + (3//4)*α*(u2(T)^2)*v2(T) + (3//2)*α*(u1(T)^2)*v2(T) + (3//2)*α*(u3(T)^2)*v2(T) + (3//2)*α*(v1(T)^2)*v2(T) + (3//2)*α*(v3(T)^2)*v2(T) + (3//4)*α*(u1(T)^2)*v3(T) + (3//2)*α*u2(T)*u3(T)*v1(T) + (3//2)*α*u1(T)*u2(T)*v3(T) + (3//2)*α*v1(T)*v2(T)*v3(T) - (1//4)*α*(v1(T)^3) - (9//1)*(ω^2)*v2(T) - (6//1)*ω*Differential(T)(u2(T)) - (3//1)*γ*ω*u2(T) - (3//4)*α*(v1(T)^2)*v3(T) - (3//2)*α*u1(T)*u3(T)*v1(T) - (3//2)*α*u1(T)*u3(T)*v2(T) ~ 0\n",
       "\n",
       "γ*Differential(T)(u3(T)) + (ω0^2)*u3(T) + (3//4)*α*(u3(T)^3) + (10//1)*ω*Differential(T)(v3(T)) + (3//4)*α*(u2(T)^2)*u1(T) + (3//4)*α*(u1(T)^2)*u2(T) + (3//2)*α*(u1(T)^2)*u3(T) + (3//2)*α*(u2(T)^2)*u3(T) + (3//2)*α*(v1(T)^2)*u3(T) + (3//4)*α*(v3(T)^2)*u3(T) + (3//2)*α*(v2(T)^2)*u3(T) + (5//1)*γ*ω*v3(T) + (3//2)*α*u2(T)*v1(T)*v2(T) - (25//1)*(ω^2)*u3(T) - (3//4)*α*(v1(T)^2)*u2(T) - (3//4)*α*(v2(T)^2)*u1(T) - (3//2)*α*u1(T)*v1(T)*v2(T) ~ F\n",
       "\n",
       "γ*Differential(T)(v3(T)) + (ω0^2)*v3(T) + (3//4)*α*(v3(T)^3) + (3//4)*α*(v2(T)^2)*v1(T) + (3//4)*α*(u1(T)^2)*v2(T) + (3//4)*α*(u3(T)^2)*v3(T) + (3//2)*α*(u1(T)^2)*v3(T) + (3//2)*α*(u2(T)^2)*v3(T) + (3//2)*α*(v1(T)^2)*v3(T) + (3//2)*α*(v2(T)^2)*v3(T) + (3//2)*α*u1(T)*u2(T)*v1(T) + (3//2)*α*u1(T)*u2(T)*v2(T) - (10//1)*ω*Differential(T)(u3(T)) - (25//1)*(ω^2)*v3(T) - (3//4)*α*(u2(T)^2)*v1(T) - (5//1)*γ*ω*u3(T) - (3//4)*α*(v1(T)^2)*v2(T) ~ 0\n"
      ]
     },
     "execution_count": 3,
     "metadata": {},
     "output_type": "execute_result"
    }
   ],
   "source": [
    "# implement ansatz to get harmonic equations\n",
    "harmonic_eq = get_harmonic_equations(diff_eq)"
   ]
  },
  {
   "cell_type": "markdown",
   "metadata": {},
   "source": [
    "# drive near resonance"
   ]
  },
  {
   "cell_type": "code",
   "execution_count": null,
   "metadata": {},
   "outputs": [],
   "source": [
    "fixed = (α => 1., ω0 => 1.0, F => 0.5, γ=>0.0001)   # fixed parameters\n",
    "swept = ω => LinRange(0.9, 1.2, 200)              # range of parameter values\n",
    "solutions = get_steady_states(harmonic_eq, swept, fixed, random_warmup=true)"
   ]
  },
  {
   "cell_type": "code",
   "execution_count": null,
   "metadata": {},
   "outputs": [],
   "source": [
    "lw = 1.4\n",
    "annot=[\"Computer Modern\", 7]\n",
    "\n",
    "Plots.scalefontsizes()\n",
    "Plots.default(bottom_margin = -2mm,label=nothing, linewidth=lw, fontfamily=\"Computer Modern\", tickfontsize=6, titlefont=\"Computer Modern\" ,titlefontsize=6,labelfontsize=6,tickfont=\"Computer Modern\", framestyle=:box, grid=nothing)\n",
    "Plots.default(xlabel=\"\\$ \\\\omega/5 \\$ \")\n",
    "Plots.scalefontsizes(1.125)\n",
    "\n",
    "p1 = plot1D(solutions, x=\"ω\", y=\"sqrt(u1^2 + v1^2)\", \n",
    "    legend=false, ylabel=\"\\$ \\\\sqrt{u_1^2 + v_1^2} \\$\", c=1, branches=[1])\n",
    "plot1D(solutions, x=\"ω\", y=\"sqrt(u1^2 + v1^2)\", \n",
    "    legend=false, ylabel=\"\\$ \\\\sqrt{u_1^2 + v_1^2} \\$\", c=2, branches=[3,9], add=true);\n",
    "plot1D(solutions, x=\"ω\", y=\"sqrt(u1^2 + v1^2)\", \n",
    "    legend=false, ylabel=\"\\$ \\\\sqrt{u_1^2 + v_1^2} \\$\", c=:red, branches=[2], add=true, style=:dash)\n",
    "annotate!((0.1,0.9), text(\"(a)\", annot...));\n",
    "p2 = plot1D(solutions, x=\"ω\", y=\"sqrt(u2^2 + v2^2)\", legend=false, ylabel=\"\\$ \\\\sqrt{u_2^2 + v_2^2} \\$\", c=1,\n",
    "    branches = [1]);\n",
    "plot1D(solutions, x=\"ω\", y=\"sqrt(u2^2 + v2^2)\", legend=false, ylabel=\"\\$ \\\\sqrt{u_2^2 + v_2^2} \\$\",\n",
    "    branches = [3,9], c=2, add=true);\n",
    "plot1D(solutions, x=\"ω\", y=\"sqrt(u2^2 + v2^2)\", legend=false, ylabel=\"\\$ \\\\sqrt{u_2^2 + v_2^2} \\$\",\n",
    "    branches = [2], c=:red, add=true, style=:dash);\n",
    "annotate!((0.1,0.9), text(\"(b)\", annot...));\n",
    "\n",
    "p3 = plot1D(solutions, x=\"ω\", y=\"sqrt(u3^2 + v3^2)\", legend=false, ylabel=\"\\$ \\\\sqrt{u_3^2 + v_3^2} \\$\", c=1,\n",
    "    branches=[1]);\n",
    "plot1D(solutions, x=\"ω\", y=\"sqrt(u3^2 + v3^2)\", legend=false, ylabel=\"\\$ \\\\sqrt{u_3^2 + v_3^2} \\$\", c=2,\n",
    "    branches=[3,9], add=true, style=:dash);\n",
    "plot1D(solutions, x=\"ω\", y=\"sqrt(u3^2 + v3^2)\", legend=false, ylabel=\"\\$ \\\\sqrt{u_3^2 + v_3^2} \\$\", c=:red,\n",
    "    branches=[2], add=true);\n",
    "annotate!((0.1,0.9), text(\"(c)\", annot...));\n",
    "\n",
    "p4 = HarmonicBalance.plot1D(solutions, x=\"ω\", y=\"atan(u1/v1)\", legend=false, branches=cat(3:7, 9:15, dims=1),\n",
    "    ylabel = \"\\$ \\\\arctan(u_1 / v_1) \\$\", c=2);\n",
    "annotate!((0.1,0.9), text(\"(d)\", annot...));"
   ]
  },
  {
   "cell_type": "code",
   "execution_count": null,
   "metadata": {},
   "outputs": [],
   "source": [
    "l = @layout [a b; c d]\n",
    "\n",
    "p = Plots.plot(p1, p2, p3, p4, layout=l, size=(400,260))"
   ]
  },
  {
   "cell_type": "code",
   "execution_count": null,
   "metadata": {},
   "outputs": [],
   "source": [
    "savefig(p, dir * \"/limit_cycles/duff_sub_atan.svg\")"
   ]
  },
  {
   "cell_type": "code",
   "execution_count": null,
   "metadata": {},
   "outputs": [],
   "source": [
    "Plots.scalefontsizes()\n",
    "Plots.default(label=nothing, linewidth=0.8, fontfamily=\"Computer Modern\", tickfontsize=6, titlefont=\"Computer Modern\" ,titlefontsize=6,labelfontsize=6,tickfont=\"Computer Modern\", framestyle=:box, grid=nothing)\n",
    "Plots.default(xlabel=\"\\$ \\\\omega/5 \\$ \")\n",
    "Plots.scalefontsizes(1.125)"
   ]
  },
  {
   "cell_type": "code",
   "execution_count": null,
   "metadata": {},
   "outputs": [],
   "source": []
  }
 ],
 "metadata": {
  "kernelspec": {
   "display_name": "Julia 1.7.0",
   "language": "julia",
   "name": "julia-1.7"
  },
  "language_info": {
   "file_extension": ".jl",
   "mimetype": "application/julia",
   "name": "julia",
   "version": "1.7.0"
  }
 },
 "nbformat": 4,
 "nbformat_minor": 4
}
