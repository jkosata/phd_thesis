{
 "cells": [
  {
   "cell_type": "code",
   "execution_count": 19,
   "metadata": {
    "scrolled": true
   },
   "outputs": [],
   "source": [
    "using Revise, HarmonicBalance\n",
    "include(\"../plotting.jl\")\n",
    "@variables α, ω, ω0, F, t, η, x(t), γ; # declare constant variables and a function x(t)"
   ]
  },
  {
   "cell_type": "code",
   "execution_count": 24,
   "metadata": {
    "scrolled": true
   },
   "outputs": [
    {
     "data": {
      "text/plain": [
       "System of 1 differential equations\n",
       "Variables:       x(t)\n",
       "Harmonic ansatz: x(t) => (1//5)*ω, (3//5)*ω, ω;   \n",
       "\n",
       "α*(x(t)^3) + (ω0^2)*x(t) + γ*Differential(t)(x(t)) + Differential(t)(Differential(t)(x(t))) ~ F*cos(t*ω)\n"
      ]
     },
     "execution_count": 24,
     "metadata": {},
     "output_type": "execute_result"
    }
   ],
   "source": [
    "# define ODE \n",
    "diff_eq = DifferentialEquation(d(x,t,2) + ω0^2*x + α*x^3 + γ*d(x,t) ~ F*cos(ω*t), x)\n",
    "\n",
    "# specify the ansatz x = u(T) cos(ωt) + v(T) sin(ωt)\n",
    "add_harmonic!(diff_eq, x, ω/5) \n",
    "add_harmonic!(diff_eq, x, 3ω/5)\n",
    "add_harmonic!(diff_eq, x, ω) "
   ]
  },
  {
   "cell_type": "code",
   "execution_count": 25,
   "metadata": {},
   "outputs": [
    {
     "data": {
      "text/plain": [
       "A set of 6 harmonic equations\n",
       "Variables: u1(T), v1(T), u2(T), v2(T), u3(T), v3(T)\n",
       "Parameters: ω, ω0, α, γ, F\n",
       "\n",
       "Harmonic ansatz: \n",
       "x(t) = u1(T)*cos((1//5)*ωt) + v1(T)*sin((1//5)*ωt) + u2(T)*cos((3//5)*ωt) + v2(T)*sin((3//5)*ωt) + u3(T)*cos(ωt) + v3(T)*sin(ωt)\n",
       "\n",
       "Harmonic equations:\n",
       "\n",
       "(ω0^2)*u1(T) + γ*Differential(T)(u1(T)) + (3//4)*α*(u1(T)^3) + (2//5)*ω*Differential(T)(v1(T)) + (3//2)*α*(u2(T)^2)*u1(T) + (3//2)*α*(u3(T)^2)*u1(T) + (1//5)*γ*ω*v1(T) + (3//4)*α*(u1(T)^2)*u2(T) + (3//4)*α*(v1(T)^2)*u1(T) + (3//4)*α*(u2(T)^2)*u3(T) + (3//2)*α*(v2(T)^2)*u1(T) + (3//2)*α*(v3(T)^2)*u1(T) + (3//2)*α*u1(T)*u2(T)*u3(T) + (3//2)*α*u1(T)*v1(T)*v2(T) + (3//2)*α*u1(T)*v2(T)*v3(T) + (3//2)*α*u2(T)*v1(T)*v3(T) + (3//2)*α*u2(T)*v2(T)*v3(T) - (1//25)*(ω^2)*u1(T) - (3//4)*α*(v1(T)^2)*u2(T) - (3//4)*α*(v2(T)^2)*u3(T) - (3//2)*α*u3(T)*v1(T)*v2(T) ~ 0\n",
       "\n",
       "γ*Differential(T)(v1(T)) + (ω0^2)*v1(T) + (3//4)*α*(v1(T)^3) + (3//4)*α*(u1(T)^2)*v1(T) + (3//2)*α*(u2(T)^2)*v1(T) + (3//4)*α*(u1(T)^2)*v2(T) + (3//4)*α*(v2(T)^2)*v3(T) + (3//2)*α*(u3(T)^2)*v1(T) + (3//2)*α*(v2(T)^2)*v1(T) + (3//2)*α*(v3(T)^2)*v1(T) + (3//2)*α*u1(T)*u2(T)*v3(T) + (3//2)*α*u2(T)*u3(T)*v2(T) - (1//25)*(ω^2)*v1(T) - (2//5)*ω*Differential(T)(u1(T)) - (1//5)*γ*ω*u1(T) - (3//4)*α*(v1(T)^2)*v2(T) - (3//4)*α*(u2(T)^2)*v3(T) - (3//2)*α*u1(T)*u2(T)*v1(T) - (3//2)*α*u2(T)*u3(T)*v1(T) - (3//2)*α*u1(T)*u3(T)*v2(T) - (3//2)*α*v1(T)*v2(T)*v3(T) ~ 0\n",
       "\n",
       "(ω0^2)*u2(T) + γ*Differential(T)(u2(T)) + (1//4)*α*(u1(T)^3) + (3//4)*α*(u2(T)^3) + (6//5)*ω*Differential(T)(v2(T)) + (3//2)*α*(u1(T)^2)*u2(T) + (3//4)*α*(u1(T)^2)*u3(T) + (3//4)*α*(v2(T)^2)*u2(T) + (3//5)*γ*ω*v2(T) + (3//2)*α*(u3(T)^2)*u2(T) + (3//2)*α*(v1(T)^2)*u2(T) + (3//2)*α*(v3(T)^2)*u2(T) + (3//2)*α*u1(T)*u2(T)*u3(T) + (3//2)*α*u1(T)*v1(T)*v3(T) + (3//2)*α*u1(T)*v2(T)*v3(T) + (3//2)*α*u3(T)*v1(T)*v2(T) - (9//25)*(ω^2)*u2(T) - (3//4)*α*(v1(T)^2)*u1(T) - (3//4)*α*(v1(T)^2)*u3(T) - (3//2)*α*u2(T)*v1(T)*v3(T) ~ 0\n",
       "\n",
       "γ*Differential(T)(v2(T)) + (ω0^2)*v2(T) + (3//4)*α*(v2(T)^3) + (3//4)*α*(u1(T)^2)*v1(T) + (3//4)*α*(u2(T)^2)*v2(T) + (3//2)*α*(u1(T)^2)*v2(T) + (3//2)*α*(u3(T)^2)*v2(T) + (3//2)*α*(v1(T)^2)*v2(T) + (3//2)*α*(v3(T)^2)*v2(T) + (3//4)*α*(u1(T)^2)*v3(T) + (3//2)*α*u2(T)*u3(T)*v1(T) + (3//2)*α*u1(T)*u2(T)*v3(T) + (3//2)*α*v1(T)*v2(T)*v3(T) - (1//4)*α*(v1(T)^3) - (9//25)*(ω^2)*v2(T) - (6//5)*ω*Differential(T)(u2(T)) - (3//5)*γ*ω*u2(T) - (3//4)*α*(v1(T)^2)*v3(T) - (3//2)*α*u1(T)*u3(T)*v1(T) - (3//2)*α*u1(T)*u3(T)*v2(T) ~ 0\n",
       "\n",
       "γ*Differential(T)(u3(T)) + (ω0^2)*u3(T) + (3//4)*α*(u3(T)^3) + γ*ω*v3(T) + (2//1)*ω*Differential(T)(v3(T)) + (3//4)*α*(u2(T)^2)*u1(T) + (3//4)*α*(u1(T)^2)*u2(T) + (3//2)*α*(u1(T)^2)*u3(T) + (3//2)*α*(u2(T)^2)*u3(T) + (3//2)*α*(v1(T)^2)*u3(T) + (3//4)*α*(v3(T)^2)*u3(T) + (3//2)*α*(v2(T)^2)*u3(T) + (3//2)*α*u2(T)*v1(T)*v2(T) - (ω^2)*u3(T) - (3//4)*α*(v1(T)^2)*u2(T) - (3//4)*α*(v2(T)^2)*u1(T) - (3//2)*α*u1(T)*v1(T)*v2(T) ~ F\n",
       "\n",
       "γ*Differential(T)(v3(T)) + (ω0^2)*v3(T) + (3//4)*α*(v3(T)^3) + (3//4)*α*(v2(T)^2)*v1(T) + (3//4)*α*(u1(T)^2)*v2(T) + (3//4)*α*(u3(T)^2)*v3(T) + (3//2)*α*(u1(T)^2)*v3(T) + (3//2)*α*(u2(T)^2)*v3(T) + (3//2)*α*(v1(T)^2)*v3(T) + (3//2)*α*(v2(T)^2)*v3(T) + (3//2)*α*u1(T)*u2(T)*v1(T) + (3//2)*α*u1(T)*u2(T)*v2(T) - (2//1)*ω*Differential(T)(u3(T)) - (ω^2)*v3(T) - (3//4)*α*(u2(T)^2)*v1(T) - γ*ω*u3(T) - (3//4)*α*(v1(T)^2)*v2(T) ~ 0\n"
      ]
     },
     "execution_count": 25,
     "metadata": {},
     "output_type": "execute_result"
    }
   ],
   "source": [
    "# implement ansatz to get harmonic equations\n",
    "harmonic_eq = get_harmonic_equations(diff_eq)"
   ]
  },
  {
   "cell_type": "markdown",
   "metadata": {},
   "source": [
    "# drive near resonance"
   ]
  },
  {
   "cell_type": "code",
   "execution_count": 15,
   "metadata": {},
   "outputs": [
    {
     "name": "stdout",
     "output_type": "stream",
     "text": [
      "\r",
      "\u001b[32mSolving for 200 parameters... 100%|█████████████████████| Time: 0:00:03\u001b[39m\r\n",
      "\u001b[34m  # parameters solved:  200\u001b[39m\r\n",
      "\u001b[34m  # paths tracked:      30600\u001b[39m\n"
     ]
    },
    {
     "name": "stderr",
     "output_type": "stream",
     "text": [
      "\r",
      "\u001b[32mOrdering solutions into branches ...  93%|██████████████ |  ETA: 0:00:00\u001b[39m"
     ]
    },
    {
     "data": {
      "text/plain": [
       "A steady state result for 200 parameter points\n",
       "\n",
       "Solution branches:   153\n",
       "   of which real:    13\n",
       "   of which stable:  7\n",
       "\n",
       "Classes: stable, physical, Hopf, binary_labels\n"
      ]
     },
     "execution_count": 15,
     "metadata": {},
     "output_type": "execute_result"
    }
   ],
   "source": [
    "fixed = (α => 1., ω0 => 1.0, F => 0.5, γ=>0.0001)   # fixed parameters\n",
    "swept = ω => 5*LinRange(0.9, 1.2, 200)              # range of parameter values\n",
    "solutions = get_steady_states(harmonic_eq, swept, fixed, random_warmup=true)"
   ]
  },
  {
   "cell_type": "code",
   "execution_count": 20,
   "metadata": {},
   "outputs": [
    {
     "ename": "LoadError",
     "evalue": "UndefVarError: plot1D not defined",
     "output_type": "error",
     "traceback": [
      "UndefVarError: plot1D not defined",
      "",
      "Stacktrace:",
      " [1] top-level scope",
      "   @ In[20]:9",
      " [2] eval",
      "   @ ./boot.jl:373 [inlined]",
      " [3] include_string(mapexpr::typeof(REPL.softscope), mod::Module, code::String, filename::String)",
      "   @ Base ./loading.jl:1196"
     ]
    }
   ],
   "source": [
    "lw = 1.4\n",
    "annot=[\"Computer Modern\", 7]\n",
    "\n",
    "Plots.scalefontsizes()\n",
    "Plots.default(bottom_margin = -2mm,label=nothing, linewidth=lw, fontfamily=\"Computer Modern\", tickfontsize=6, titlefont=\"Computer Modern\" ,titlefontsize=6,labelfontsize=6,tickfont=\"Computer Modern\", framestyle=:box, grid=nothing)\n",
    "Plots.default(xlabel=\"\\$ \\\\omega/5 \\$ \")\n",
    "Plots.scalefontsizes(1.125)\n",
    "\n",
    "p1 = plot1D(solutions, x=\"ω\", y=\"sqrt(u1^2 + v1^2)\", \n",
    "    legend=false, ylabel=\"\\$ \\\\sqrt{u_1^2 + v_1^2} \\$\", c=1, branches=[1])\n",
    "plot1D(solutions, x=\"ω\", y=\"sqrt(u1^2 + v1^2)\", \n",
    "    legend=false, ylabel=\"\\$ \\\\sqrt{u_1^2 + v_1^2} \\$\", c=2, branches=[3,9], add=true);\n",
    "plot1D(solutions, x=\"ω\", y=\"sqrt(u1^2 + v1^2)\", \n",
    "    legend=false, ylabel=\"\\$ \\\\sqrt{u_1^2 + v_1^2} \\$\", c=:red, branches=[2], add=true, style=:dash)\n",
    "annotate!((0.1,0.9), text(\"(a)\", annot...));\n",
    "p2 = plot1D(solutions, x=\"ω\", y=\"sqrt(u2^2 + v2^2)\", legend=false, ylabel=\"\\$ \\\\sqrt{u_2^2 + v_2^2} \\$\", c=1,\n",
    "    branches = [1]);\n",
    "plot1D(solutions, x=\"ω\", y=\"sqrt(u2^2 + v2^2)\", legend=false, ylabel=\"\\$ \\\\sqrt{u_2^2 + v_2^2} \\$\",\n",
    "    branches = [3,9], c=2, add=true);\n",
    "plot1D(solutions, x=\"ω\", y=\"sqrt(u2^2 + v2^2)\", legend=false, ylabel=\"\\$ \\\\sqrt{u_2^2 + v_2^2} \\$\",\n",
    "    branches = [2], c=:red, add=true, style=:dash);\n",
    "annotate!((0.1,0.9), text(\"(b)\", annot...));\n",
    "\n",
    "p3 = plot1D(solutions, x=\"ω\", y=\"sqrt(u3^2 + v3^2)\", legend=false, ylabel=\"\\$ \\\\sqrt{u_3^2 + v_3^2} \\$\", c=1,\n",
    "    branches=[1]);\n",
    "plot1D(solutions, x=\"ω\", y=\"sqrt(u3^2 + v3^2)\", legend=false, ylabel=\"\\$ \\\\sqrt{u_3^2 + v_3^2} \\$\", c=2,\n",
    "    branches=[3,9], add=true, style=:dash);\n",
    "plot1D(solutions, x=\"ω\", y=\"sqrt(u3^2 + v3^2)\", legend=false, ylabel=\"\\$ \\\\sqrt{u_3^2 + v_3^2} \\$\", c=:red,\n",
    "    branches=[2], add=true);\n",
    "annotate!((0.1,0.9), text(\"(c)\", annot...));\n",
    "\n",
    "p4 = HarmonicBalance.plot1D(solutions, x=\"ω\", y=\"atan(u1/v1)\", legend=false, branches=cat(3:7, 9:15, dims=1),\n",
    "    ylabel = \"\\$ \\\\arctan(u_1 / v_1) \\$\", c=2);\n",
    "annotate!((0.1,0.9), text(\"(d)\", annot...));"
   ]
  },
  {
   "cell_type": "code",
   "execution_count": 18,
   "metadata": {},
   "outputs": [
    {
     "ename": "LoadError",
     "evalue": "UndefVarError: p1 not defined",
     "output_type": "error",
     "traceback": [
      "UndefVarError: p1 not defined",
      "",
      "Stacktrace:",
      " [1] top-level scope",
      "   @ In[18]:3",
      " [2] eval",
      "   @ ./boot.jl:373 [inlined]",
      " [3] include_string(mapexpr::typeof(REPL.softscope), mod::Module, code::String, filename::String)",
      "   @ Base ./loading.jl:1196"
     ]
    }
   ],
   "source": [
    "l = @layout [a b; c d]\n",
    "\n",
    "p = Plots.plot(p1, p2, p3, p4, layout=l, size=(400,260))"
   ]
  },
  {
   "cell_type": "code",
   "execution_count": null,
   "metadata": {},
   "outputs": [],
   "source": [
    "savefig(p, dir * \"/limit_cycles/duff_sub_atan.svg\")"
   ]
  },
  {
   "cell_type": "code",
   "execution_count": null,
   "metadata": {},
   "outputs": [],
   "source": [
    "Plots.scalefontsizes()\n",
    "Plots.default(label=nothing, linewidth=0.8, fontfamily=\"Computer Modern\", tickfontsize=6, titlefont=\"Computer Modern\" ,titlefontsize=6,labelfontsize=6,tickfont=\"Computer Modern\", framestyle=:box, grid=nothing)\n",
    "Plots.default(xlabel=\"\\$ \\\\omega/5 \\$ \")\n",
    "Plots.scalefontsizes(1.125)"
   ]
  },
  {
   "cell_type": "code",
   "execution_count": null,
   "metadata": {},
   "outputs": [],
   "source": []
  }
 ],
 "metadata": {
  "kernelspec": {
   "display_name": "Julia 1.7.0",
   "language": "julia",
   "name": "julia-1.7"
  },
  "language_info": {
   "file_extension": ".jl",
   "mimetype": "application/julia",
   "name": "julia",
   "version": "1.7.0"
  }
 },
 "nbformat": 4,
 "nbformat_minor": 4
}
